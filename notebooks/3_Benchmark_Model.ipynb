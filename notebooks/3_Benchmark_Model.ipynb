{
 "cells": [
  {
   "cell_type": "markdown",
   "metadata": {},
   "source": [
    "# Benchmark"
   ]
  },
  {
   "cell_type": "code",
   "execution_count": 8,
   "metadata": {},
   "outputs": [],
   "source": [
    "import pandas as pd\n",
    "import psycopg2\n",
    "from psycopg2 import Error\n",
    "import sqlalchemy\n",
    "from sqlalchemy import create_engine\n",
    "import matplotlib as plt\n",
    "import pickle\n",
    "import os"
   ]
  },
  {
   "cell_type": "code",
   "execution_count": 9,
   "metadata": {},
   "outputs": [],
   "source": [
    "DATA_DIR = '../data'"
   ]
  },
  {
   "cell_type": "code",
   "execution_count": 10,
   "metadata": {},
   "outputs": [],
   "source": [
    "# Postgres username, password, and database name\n",
    "POSTGRES_ADDRESS = 'localhost' \n",
    "POSTGRES_PORT = '5432'\n",
    "POSTGRES_USERNAME = 'postgres' \n",
    "POSTGRES_PASSWORD = 'postgres' \n",
    "POSTGRES_DBNAME = 'greyhounds'\n",
    "\n",
    "postgres_str = f\"postgresql://{POSTGRES_USERNAME}:{POSTGRES_PASSWORD}@{POSTGRES_ADDRESS}:{POSTGRES_PORT}/{POSTGRES_DBNAME}\"\n",
    "\n",
    "# Create the connection\n",
    "cnx = create_engine(postgres_str)\n",
    "\n",
    "cnx_str = \"dbname='greyhounds' user='postgres' host='localhost' password='postgres'\""
   ]
  },
  {
   "cell_type": "markdown",
   "metadata": {},
   "source": [
    "Identifies the bookies favourite for each race.\n",
    " In the case of a joint favourite, we take the dog with the lowest name alphabetically \n",
    " as a proxie for a random selection."
   ]
  },
  {
   "cell_type": "code",
   "execution_count": 2,
   "metadata": {},
   "outputs": [],
   "source": [
    "def favourite_1():\n",
    "\n",
    "    try:\n",
    "        print(f\"Atempting to create the favourite_1 table\")\n",
    "\n",
    "        # Connect to database\n",
    "        connect_str = \"dbname='greyhounds' user='postgres' host='localhost' password='postgres'\"\n",
    "        conn_psql = psycopg2.connect(connect_str)\n",
    "        cursor = conn_psql.cursor()\n",
    "\n",
    "        # Create table\n",
    "        cursor.execute(\"\"\"\n",
    "        DROP TABLE IF EXISTS favourite_1;\n",
    "        CREATE TABLE favourite_1 AS\n",
    "        SELECT *, \n",
    "        CASE\n",
    "            WHEN sp ~ 'F' THEN '1'\n",
    "            ELSE 0\n",
    "        END as favourite,\n",
    "        CASE\n",
    "            WHEN sp ~ 'JF' THEN '1'\n",
    "            ELSE 0\n",
    "        END as joint_favourite\n",
    "        FROM positions;\n",
    "        CREATE INDEX idx_favourite_1 ON favourite_1(race_id);\n",
    "            \n",
    "            \"\"\")\n",
    "        conn_psql.commit()\n",
    "        print(f\"The favourite_1 table has been created\")\n",
    "        \n",
    "    except (Exception, psycopg2.DatabaseError) as error:\n",
    "        print(f\"ERROR occured whilst creating the favourite_1 table\")\n",
    "        print(error)\n",
    "\n",
    "    finally:\n",
    "        if(conn_psql):\n",
    "            cursor.close()\n",
    "            conn_psql.close()"
   ]
  },
  {
   "cell_type": "code",
   "execution_count": 3,
   "metadata": {},
   "outputs": [],
   "source": [
    "def favourite():\n",
    "\n",
    "    try:\n",
    "        print(f\"Atempting to create the favourite table\")\n",
    "\n",
    "        # Connect to database\n",
    "        connect_str = \"dbname='greyhounds' user='postgres' host='localhost' password='postgres'\"\n",
    "        conn_psql = psycopg2.connect(connect_str)\n",
    "        cursor = conn_psql.cursor()\n",
    "\n",
    "        # Create table\n",
    "        cursor.execute(\"\"\"\n",
    "        DROP TABLE IF EXISTS favourite;\n",
    "        CREATE TABLE favourite AS\n",
    "        SELECT race_id, dog_id, favourite, box, fin\n",
    "        FROM\n",
    "            (SELECT f.*, d.dog_name, ROW_NUMBER() OVER (PARTITION BY race_id ORDER BY d.dog_name) AS rn\n",
    "            FROM favourite_1 f\n",
    "            LEFT JOIN dogs d ON\n",
    "                d.dog_id = f.dog_id\n",
    "            WHERE f.favourite = 1) subquery\n",
    "        WHERE subquery.rn = 1;\n",
    "        CREATE INDEX idx_favourite ON favourite(race_id, dog_id);\n",
    "            \"\"\")\n",
    "        conn_psql.commit()\n",
    "        print(f\"The favourite table has been created\")\n",
    "        \n",
    "    except (Exception, psycopg2.DatabaseError) as error:\n",
    "        print(f\"ERROR occured whilst creating the favourite table\")\n",
    "        print(error)\n",
    "\n",
    "    finally:\n",
    "        if(conn_psql):\n",
    "            cursor.close()\n",
    "            conn_psql.close()"
   ]
  },
  {
   "cell_type": "code",
   "execution_count": 4,
   "metadata": {},
   "outputs": [],
   "source": [
    "def favourite_clear_up():\n",
    "\n",
    "    try:\n",
    "        print(f\"Attempting to delete the intermediate tables used to create the favourite table\")\n",
    "        \n",
    "        # Connect to database\n",
    "        connect_str = \"dbname='greyhounds' user='postgres' host='localhost' password='postgres'\"\n",
    "        conn_psql = psycopg2.connect(connect_str)\n",
    "        cursor = conn_psql.cursor()\n",
    "\n",
    "        # Create table\n",
    "        cursor.execute(\"\"\"\n",
    "        DROP TABLE IF EXISTS favourite_1;\n",
    "            \"\"\")\n",
    "\n",
    "        conn_psql.commit()\n",
    "        print(f\"The intermediate tables used to create the favourite table have been deleted\")\n",
    "        \n",
    "    except (Exception, psycopg2.DatabaseError) as error:\n",
    "        print(f\"ERROR occured whilst deleting the intermediate tables\")\n",
    "        print(error)\n",
    "\n",
    "    finally:\n",
    "        if(conn_psql):\n",
    "            cursor.close()\n",
    "            conn_psql.close()"
   ]
  },
  {
   "cell_type": "code",
   "execution_count": 5,
   "metadata": {},
   "outputs": [
    {
     "name": "stdout",
     "output_type": "stream",
     "text": [
      "Atempting to create the favourite_1 table\n",
      "The favourite_1 table has been created\n",
      "Atempting to create the favourite table\n",
      "The favourite table has been created\n",
      "Attempting to delete the intermediate tables used to create the favourite table\n",
      "The intermediate tables used to create the favourite table have been deleted\n"
     ]
    }
   ],
   "source": [
    "favourite_1()\n",
    "favourite()\n",
    "favourite_clear_up()"
   ]
  },
  {
   "cell_type": "code",
   "execution_count": 15,
   "metadata": {},
   "outputs": [
    {
     "data": {
      "text/html": [
       "<div>\n",
       "<style scoped>\n",
       "    .dataframe tbody tr th:only-of-type {\n",
       "        vertical-align: middle;\n",
       "    }\n",
       "\n",
       "    .dataframe tbody tr th {\n",
       "        vertical-align: top;\n",
       "    }\n",
       "\n",
       "    .dataframe thead th {\n",
       "        text-align: right;\n",
       "    }\n",
       "</style>\n",
       "<table border=\"1\" class=\"dataframe\">\n",
       "  <thead>\n",
       "    <tr style=\"text-align: right;\">\n",
       "      <th></th>\n",
       "      <th>benchmark</th>\n",
       "    </tr>\n",
       "    <tr>\n",
       "      <th>race_id</th>\n",
       "      <th></th>\n",
       "    </tr>\n",
       "  </thead>\n",
       "  <tbody>\n",
       "    <tr>\n",
       "      <th>16022</th>\n",
       "      <td>1</td>\n",
       "    </tr>\n",
       "    <tr>\n",
       "      <th>16809</th>\n",
       "      <td>2</td>\n",
       "    </tr>\n",
       "    <tr>\n",
       "      <th>16895</th>\n",
       "      <td>4</td>\n",
       "    </tr>\n",
       "    <tr>\n",
       "      <th>16896</th>\n",
       "      <td>5</td>\n",
       "    </tr>\n",
       "    <tr>\n",
       "      <th>16897</th>\n",
       "      <td>2</td>\n",
       "    </tr>\n",
       "    <tr>\n",
       "      <th>...</th>\n",
       "      <td>...</td>\n",
       "    </tr>\n",
       "    <tr>\n",
       "      <th>4642020</th>\n",
       "      <td>4</td>\n",
       "    </tr>\n",
       "    <tr>\n",
       "      <th>4642021</th>\n",
       "      <td>3</td>\n",
       "    </tr>\n",
       "    <tr>\n",
       "      <th>4642022</th>\n",
       "      <td>6</td>\n",
       "    </tr>\n",
       "    <tr>\n",
       "      <th>4642023</th>\n",
       "      <td>3</td>\n",
       "    </tr>\n",
       "    <tr>\n",
       "      <th>4642024</th>\n",
       "      <td>1</td>\n",
       "    </tr>\n",
       "  </tbody>\n",
       "</table>\n",
       "<p>53973 rows × 1 columns</p>\n",
       "</div>"
      ],
      "text/plain": [
       "         benchmark\n",
       "race_id           \n",
       "16022            1\n",
       "16809            2\n",
       "16895            4\n",
       "16896            5\n",
       "16897            2\n",
       "...            ...\n",
       "4642020          4\n",
       "4642021          3\n",
       "4642022          6\n",
       "4642023          3\n",
       "4642024          1\n",
       "\n",
       "[53973 rows x 1 columns]"
      ]
     },
     "execution_count": 15,
     "metadata": {},
     "output_type": "execute_result"
    }
   ],
   "source": [
    "benchmark = pd.read_sql_query('''\n",
    "        SELECT race_id, box as benchmark\n",
    "        FROM favourite \n",
    "        ''', cnx, index_col='race_id')\n",
    "benchmark"
   ]
  },
  {
   "cell_type": "markdown",
   "metadata": {},
   "source": [
    "# Store Benchmark"
   ]
  },
  {
   "cell_type": "code",
   "execution_count": 16,
   "metadata": {},
   "outputs": [],
   "source": [
    "pickle.dump(benchmark, open(os.path.join(DATA_DIR, 'benchmark.p'), 'wb'))"
   ]
  },
  {
   "cell_type": "code",
   "execution_count": null,
   "metadata": {},
   "outputs": [],
   "source": []
  }
 ],
 "metadata": {
  "kernelspec": {
   "display_name": "dogs",
   "language": "python",
   "name": "dogs"
  },
  "language_info": {
   "codemirror_mode": {
    "name": "ipython",
    "version": 3
   },
   "file_extension": ".py",
   "mimetype": "text/x-python",
   "name": "python",
   "nbconvert_exporter": "python",
   "pygments_lexer": "ipython3",
   "version": "3.6.9"
  }
 },
 "nbformat": 4,
 "nbformat_minor": 4
}
